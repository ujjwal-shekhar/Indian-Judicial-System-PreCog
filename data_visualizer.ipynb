{
 "cells": [
  {
   "cell_type": "code",
   "execution_count": null,
   "metadata": {},
   "outputs": [],
   "source": [
    "# IMPORTING MODULES\n",
    "import os\n",
    "import pandas as pd\n",
    "# import plotly.express as px\n",
    "import chart_studio.plotly as py\n",
    "import plotly.figure_factory as ff\n",
    "import plotly.graph_objects as go\n"
   ]
  },
  {
   "attachments": {},
   "cell_type": "markdown",
   "metadata": {},
   "source": [
    "## Setting up path variables for easy and [generalized ?] access throughout the notebook"
   ]
  },
  {
   "cell_type": "code",
   "execution_count": null,
   "metadata": {},
   "outputs": [],
   "source": [
    "# SETTING PATH VARIABLES\n",
    "JUDICIAL_DATA_CSV_FOLDER_PATH = \"/mnt/e/judicial_data_csv/\"\n",
    "\n",
    "ACTS_SECTIONS_CSV = os.path.join(\n",
    "                        JUDICIAL_DATA_CSV_FOLDER_PATH, \n",
    "                        \"acts_sections.csv\"\n",
    "                    )\n",
    "\n",
    "CASES_CSV_FOLDER = os.path.join(\n",
    "                        JUDICIAL_DATA_CSV_FOLDER_PATH, \n",
    "                        \"cases/cases/\"\n",
    "                    )\n",
    "\n",
    "JUDGES_CSV = os.path.join(\n",
    "                        JUDICIAL_DATA_CSV_FOLDER_PATH,\n",
    "                        \"judges_clean/judges_clean.csv\"\n",
    "                    )\n",
    "KEYS_CSV = os.path.join(\n",
    "                        JUDICIAL_DATA_CSV_FOLDER_PATH, \n",
    "                        \"keys.csv\"\n",
    "                    )\n",
    "\n",
    "\n",
    "\n",
    "# To test if the file is being read properly #\n",
    "\n",
    "# for dirname, _, filenames in os.walk(JUDICIAL_DATA_CSV_FOLDER_PATH):\n",
    "#     for filename in filenames:\n",
    "#         print(os.path.join(dirname, filename))\n",
    "\n"
   ]
  },
  {
   "attachments": {},
   "cell_type": "markdown",
   "metadata": {},
   "source": [
    "### Analyzing cases csv data \n",
    "\n",
    "- We will read the csv file first\n",
    "- We will later change this to a for-loop so we can loop through every csv file\n",
    "\n",
    "#### Bibliography\n",
    "- https://stackoverflow.com/questions/50089903/convert-column-to-timestamp-pandas-dataframe\n",
    "- https://www.geeksforgeeks.org/get-minimum-values-in-rows-or-columns-with-their-index-position-in-pandas-dataframe/\n",
    "- https://stackoverflow.com/questions/19324453/add-missing-dates-to-pandas-dataframe\n",
    "- https://www.w3schools.com/python/pandas/ref_df_min.asp#:~:text=The%20min()%20method%20returns,minimum%20value%20for%20each%20row.\n",
    "- https://www.geeksforgeeks.org/how-to-sort-a-pandas-dataframe-by-date/\n",
    "- https://www.datasciencemadesimple.com/create-frequency-table-of-column-in-pandas-python-2/\n",
    "- https://datagy.io/pandas-value-counts/\n",
    "- https://stackoverflow.com/questions/47136436/python-pandas-convert-value-counts-output-to-dataframe\n",
    "- https://stackoverflow.com/questions/32888124/pandas-out-of-bounds-nanosecond-timestamp-after-offset-rollforward-plus-adding-a\n",
    "-  https://stackoverflow.com/questions/19324453/add-missing-dates-to-pandas-dataframe\n",
    "-  https://stackoverflow.com/questions/26097916/convert-pandas-series-to-dataframe\n",
    "-  https://stackoverflow.com/questions/61233041/module-not-found-error-no-module-named-chart-studio\n",
    "-  https://plotly.com/python/ipython-notebook-tutorial/"
   ]
  },
  {
   "cell_type": "code",
   "execution_count": null,
   "metadata": {},
   "outputs": [],
   "source": [
    "df = pd.read_csv(os.path.join(CASES_CSV_FOLDER, \"cases_2014.csv\"))\n",
    "df.head()\n"
   ]
  },
  {
   "attachments": {},
   "cell_type": "markdown",
   "metadata": {},
   "source": [
    "### Plotting the number of pending cases \n",
    "\n",
    "#### How the data was preprocessed and analyzed?\n",
    "- This was achieved by using the `date-of-filing` and `date-of-decision` columns\n",
    "- A case is considered pending on a given date if the `date-of-filing` has passed but the `date-of-decision` has not been passed.\n",
    "- The columns `date-of-filing` and `date-of-decision` were cleaned using the `Pandas.to_datetime()` method with the parameter `errors = coerce` to fill `NaT` in entries which were not in the correct `TimeStamp` format.\n",
    "- The previous steps ensures that there are no faulty entries in either columns.\n",
    "- A frequency map was created using `DataFrame[column].value_counts()`.\n",
    "- Frequency of non occurent dates were filled with zeros using the `PandaSeries.reindex(range_of_dates, fill_value=0)` method.\n",
    "- "
   ]
  },
  {
   "cell_type": "code",
   "execution_count": null,
   "metadata": {},
   "outputs": [],
   "source": [
    "df['date_of_filing'] = pd.to_datetime(\n",
    "    df['date_of_filing'], errors='coerce'\n",
    ")\n",
    "\n",
    "df['date_of_decision'] = pd.to_datetime(\n",
    "    df['date_of_decision'], errors='coerce'\n",
    ")\n",
    "\n",
    "min_date = df[['date_of_filing', 'date_of_decision']].min().min()\n",
    "max_date = df[['date_of_filing', 'date_of_decision']].max().max()\n",
    "\n",
    "range_of_dates = pd.date_range(min_date, max_date)\n",
    "\n",
    "freq_filed_cases = df['date_of_filing'].value_counts()\n",
    "freq_filed_cases.index = pd.DatetimeIndex(freq_filed_cases.index)\n",
    "freq_filed_cases = freq_filed_cases.reindex(range_of_dates, fill_value=0)\n",
    "# freq_filed_cases.head()\n",
    "\n",
    "freq_solved_cases = df['date_of_decision'].value_counts()\n",
    "freq_solved_cases.index = pd.DatetimeIndex(freq_solved_cases.index)\n",
    "freq_solved_cases = freq_solved_cases.reindex(range_of_dates, fill_value=0)\n",
    "print(freq_solved_cases)\n",
    "\n",
    "freq_pending_cases = freq_filed_cases.subtract(freq_solved_cases)\n",
    "\n",
    "df_pending_cases = pd.DataFrame({\n",
    "    'date'          : freq_pending_cases.index, \n",
    "    'num_pending_cases' : freq_pending_cases.values\n",
    "})\n",
    "df_pending_cases['cum_pending_cases'] = df_pending_cases['num_pending_cases'].cumsum()\n",
    "# df_pending_cases.head()\n",
    "\n",
    "\n",
    "# table = ff.create_table(df_pending_cases)\n",
    "# py.iplot(table, filename='Pending Cases during 2010')\n",
    "# df_pending_cases.plot(\n",
    "#         x = 'date', \n",
    "#         y = 'cum_pending_cases', \n",
    "#         xlim = (min_date, max_date),\n",
    "#         title = 'Number of pending cases over time'\n",
    "# )\n"
   ]
  },
  {
   "cell_type": "markdown",
   "metadata": {},
   "source": []
  },
  {
   "cell_type": "code",
   "execution_count": null,
   "metadata": {},
   "outputs": [],
   "source": []
  }
 ],
 "metadata": {
  "kernelspec": {
   "display_name": "Python 3",
   "language": "python",
   "name": "python3"
  },
  "language_info": {
   "codemirror_mode": {
    "name": "ipython",
    "version": 3
   },
   "file_extension": ".py",
   "mimetype": "text/x-python",
   "name": "python",
   "nbconvert_exporter": "python",
   "pygments_lexer": "ipython3",
   "version": "3.8.10"
  },
  "orig_nbformat": 4,
  "vscode": {
   "interpreter": {
    "hash": "916dbcbb3f70747c44a77c7bcd40155683ae19c65e1c03b4aa3499c5328201f1"
   }
  }
 },
 "nbformat": 4,
 "nbformat_minor": 2
}
